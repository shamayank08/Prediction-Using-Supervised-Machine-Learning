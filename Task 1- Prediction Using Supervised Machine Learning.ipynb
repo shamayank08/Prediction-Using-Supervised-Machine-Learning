{
 "cells": [
  {
   "cell_type": "markdown",
   "id": "bc89e403",
   "metadata": {},
   "source": [
    "# Objective: To predict the percentage of the student based on the number of study hours\n",
    "\n",
    "## Author: Mayank Sharma"
   ]
  },
  {
   "cell_type": "markdown",
   "id": "b9f1263d",
   "metadata": {},
   "source": [
    "# "
   ]
  },
  {
   "cell_type": "markdown",
   "id": "0bc4390b",
   "metadata": {},
   "source": [
    "# Importing libraries"
   ]
  },
  {
   "cell_type": "code",
   "execution_count": 9,
   "id": "5d163426",
   "metadata": {},
   "outputs": [],
   "source": [
    "import pandas as pd\n",
    "import numpy as np\n",
    "import matplotlib.pyplot as plt\n",
    "from sklearn.model_selection import train_test_split\n",
    "from sklearn.linear_model import LinearRegression\n",
    "from sklearn.metrics import mean_squared_error"
   ]
  },
  {
   "cell_type": "markdown",
   "id": "e33acf3e",
   "metadata": {},
   "source": [
    "# Importing data from the url"
   ]
  },
  {
   "cell_type": "code",
   "execution_count": 10,
   "id": "174dc3e3",
   "metadata": {},
   "outputs": [],
   "source": [
    "url=\"http://bit.ly/w-data\"\n",
    "data=pd.read_csv(url)"
   ]
  },
  {
   "cell_type": "markdown",
   "id": "3dd003e0",
   "metadata": {},
   "source": [
    "# Printing data"
   ]
  },
  {
   "cell_type": "code",
   "execution_count": 11,
   "id": "ddb9f06b",
   "metadata": {},
   "outputs": [
    {
     "name": "stdout",
     "output_type": "stream",
     "text": [
      "    Hours  Scores\n",
      "0     2.5      21\n",
      "1     5.1      47\n",
      "2     3.2      27\n",
      "3     8.5      75\n",
      "4     3.5      30\n",
      "5     1.5      20\n",
      "6     9.2      88\n",
      "7     5.5      60\n",
      "8     8.3      81\n",
      "9     2.7      25\n",
      "10    7.7      85\n",
      "11    5.9      62\n",
      "12    4.5      41\n",
      "13    3.3      42\n",
      "14    1.1      17\n",
      "15    8.9      95\n",
      "16    2.5      30\n",
      "17    1.9      24\n",
      "18    6.1      67\n",
      "19    7.4      69\n",
      "20    2.7      30\n",
      "21    4.8      54\n",
      "22    3.8      35\n",
      "23    6.9      76\n",
      "24    7.8      86\n"
     ]
    }
   ],
   "source": [
    "print(data)"
   ]
  },
  {
   "cell_type": "markdown",
   "id": "5db6d4c6",
   "metadata": {},
   "source": [
    "# Plotting distribution of the scores"
   ]
  },
  {
   "cell_type": "code",
   "execution_count": 12,
   "id": "5e2eb264",
   "metadata": {},
   "outputs": [
    {
     "data": {
      "image/png": "[encoded data removed]",
      "text/plain": [
       "<Figure size 432x288 with 1 Axes>"
      ]
     },
     "metadata": {
      "needs_background": "light"
     },
     "output_type": "display_data"
    }
   ],
   "source": [
    "data.plot(x='Hours',y='Scores',style='ro')\n",
    "plt.title(\"Hours vs Percentage\")\n",
    "plt.xlabel(\"Hours Studied\")\n",
    "plt.ylabel(\"Percentage Scored\")\n",
    "plt.show()"
   ]
  },
  {
   "cell_type": "markdown",
   "id": "144e410d",
   "metadata": {},
   "source": [
    "# Splitting the data into testing and training data for model building"
   ]
  },
  {
   "cell_type": "code",
   "execution_count": 13,
   "id": "e5a2e2c0",
   "metadata": {},
   "outputs": [],
   "source": [
    "X = data.iloc[:, :-1].values  \n",
    "Y= data.iloc[:, 1].values  \n",
    "x_train,x_test,y_train,y_test=train_test_split(X,Y,test_size=0.35,random_state=0)"
   ]
  },
  {
   "cell_type": "markdown",
   "id": "0f7de21a",
   "metadata": {},
   "source": [
    "# Fitting the data into Regression model"
   ]
  },
  {
   "cell_type": "code",
   "execution_count": 14,
   "id": "43104ed6",
   "metadata": {},
   "outputs": [
    {
     "data": {
      "text/plain": [
       "LinearRegression()"
      ]
     },
     "execution_count": 14,
     "metadata": {},
     "output_type": "execute_result"
    }
   ],
   "source": [
    "regressor=LinearRegression()\n",
    "regressor.fit(x_train, y_train)"
   ]
  },
  {
   "cell_type": "markdown",
   "id": "8805f24a",
   "metadata": {},
   "source": [
    "# Plotting the regression line"
   ]
  },
  {
   "cell_type": "code",
   "execution_count": 15,
   "id": "aeddf649",
   "metadata": {},
   "outputs": [
    {
     "data": {
      "image/png": "[encoded data removed]",
      "text/plain": [
       "<Figure size 432x288 with 1 Axes>"
      ]
     },
     "metadata": {
      "needs_background": "light"
     },
     "output_type": "display_data"
    }
   ],
   "source": [
    "line= regressor.coef_*X + regressor.intercept_\n",
    "\n",
    "plt.scatter(X,Y,)\n",
    "plt.plot(X,line)\n",
    "plt.show()"
   ]
  },
  {
   "cell_type": "markdown",
   "id": "1b8598ae",
   "metadata": {},
   "source": [
    "# Performing predictions"
   ]
  },
  {
   "cell_type": "code",
   "execution_count": 16,
   "id": "8ac5b553",
   "metadata": {},
   "outputs": [],
   "source": [
    "y_prediction=regressor.predict(x_test)"
   ]
  },
  {
   "cell_type": "markdown",
   "id": "584f6ef3",
   "metadata": {},
   "source": [
    "# Actual values vs Predicted values"
   ]
  },
  {
   "cell_type": "code",
   "execution_count": 17,
   "id": "0d83c17e",
   "metadata": {
    "scrolled": true
   },
   "outputs": [
    {
     "data": {
      "text/html": [
       "<div>\n",
       "<style scoped>\n",
       "    .dataframe tbody tr th:only-of-type {\n",
       "        vertical-align: middle;\n",
       "    }\n",
       "\n",
       "    .dataframe tbody tr th {\n",
       "        vertical-align: top;\n",
       "    }\n",
       "\n",
       "    .dataframe thead th {\n",
       "        text-align: right;\n",
       "    }\n",
       "</style>\n",
       "<table border=\"1\" class=\"dataframe\">\n",
       "  <thead>\n",
       "    <tr style=\"text-align: right;\">\n",
       "      <th></th>\n",
       "      <th>Actual</th>\n",
       "      <th>Predicted</th>\n",
       "    </tr>\n",
       "  </thead>\n",
       "  <tbody>\n",
       "    <tr>\n",
       "      <th>0</th>\n",
       "      <td>20</td>\n",
       "      <td>17.042892</td>\n",
       "    </tr>\n",
       "    <tr>\n",
       "      <th>1</th>\n",
       "      <td>27</td>\n",
       "      <td>33.516954</td>\n",
       "    </tr>\n",
       "    <tr>\n",
       "      <th>2</th>\n",
       "      <td>69</td>\n",
       "      <td>74.217577</td>\n",
       "    </tr>\n",
       "    <tr>\n",
       "      <th>3</th>\n",
       "      <td>30</td>\n",
       "      <td>26.733516</td>\n",
       "    </tr>\n",
       "    <tr>\n",
       "      <th>4</th>\n",
       "      <td>62</td>\n",
       "      <td>59.681640</td>\n",
       "    </tr>\n",
       "    <tr>\n",
       "      <th>5</th>\n",
       "      <td>35</td>\n",
       "      <td>39.331329</td>\n",
       "    </tr>\n",
       "    <tr>\n",
       "      <th>6</th>\n",
       "      <td>24</td>\n",
       "      <td>20.919142</td>\n",
       "    </tr>\n",
       "    <tr>\n",
       "      <th>7</th>\n",
       "      <td>86</td>\n",
       "      <td>78.093827</td>\n",
       "    </tr>\n",
       "    <tr>\n",
       "      <th>8</th>\n",
       "      <td>76</td>\n",
       "      <td>69.372265</td>\n",
       "    </tr>\n",
       "  </tbody>\n",
       "</table>\n",
       "</div>"
      ],
      "text/plain": [
       "   Actual  Predicted\n",
       "0      20  17.042892\n",
       "1      27  33.516954\n",
       "2      69  74.217577\n",
       "3      30  26.733516\n",
       "4      62  59.681640\n",
       "5      35  39.331329\n",
       "6      24  20.919142\n",
       "7      86  78.093827\n",
       "8      76  69.372265"
      ]
     },
     "execution_count": 17,
     "metadata": {},
     "output_type": "execute_result"
    }
   ],
   "source": [
    "df= pd.DataFrame({'Actual':y_test,'Predicted':y_prediction})\n",
    "df"
   ]
  },
  {
   "cell_type": "markdown",
   "id": "18bb4f9c",
   "metadata": {},
   "source": [
    "# Evaluating Linear Regression Accuracy using Root Mean Squared Error"
   ]
  },
  {
   "cell_type": "code",
   "execution_count": 18,
   "id": "1643ca98",
   "metadata": {},
   "outputs": [
    {
     "name": "stdout",
     "output_type": "stream",
     "text": [
      "The Root Mean Squared value is: 5.046115410711748\n"
     ]
    }
   ],
   "source": [
    "RMSE= mean_squared_error(y_true=y_test,y_pred=y_prediction,squared=False)\n",
    "print(\"The Root Mean Squared value is:\",RMSE)"
   ]
  },
  {
   "cell_type": "markdown",
   "id": "a4096e27",
   "metadata": {},
   "source": [
    "# Predicting the given data"
   ]
  },
  {
   "cell_type": "code",
   "execution_count": 19,
   "id": "20a53b65",
   "metadata": {},
   "outputs": [
    {
     "name": "stdout",
     "output_type": "stream",
     "text": [
      "The Predicted score: 92.14523314523316\n"
     ]
    }
   ],
   "source": [
    "hours=[[9.25]]\n",
    "pred_value=regressor.predict(hours)\n",
    "print(\"The Predicted score:\",pred_value[0])"
   ]
  }
 ],
 "metadata": {
  "kernelspec": {
   "display_name": "Python 3",
   "language": "python",
   "name": "python3"
  },
  "language_info": {
   "codemirror_mode": {
    "name": "ipython",
    "version": 3
   },
   "file_extension": ".py",
   "mimetype": "text/x-python",
   "name": "python",
   "nbconvert_exporter": "python",
   "pygments_lexer": "ipython3",
   "version": "3.9.1"
  }
 },
 "nbformat": 4,
 "nbformat_minor": 5
}
